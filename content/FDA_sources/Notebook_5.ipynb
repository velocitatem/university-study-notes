{
  "nbformat": 4,
  "nbformat_minor": 0,
  "metadata": {
    "colab": {
      "provenance": []
    },
    "kernelspec": {
      "name": "python3",
      "display_name": "Python 3"
    }
  },
  "cells": [
    {
      "cell_type": "markdown",
      "metadata": {
        "id": "qpfDT8w2PYkD",
        "colab_type": "toc"
      },
      "source": [
        ">[StatsModels: Python Functions for One-sample Tests](#scrollTo=_d8UFZabvkqT)\n",
        "\n",
        ">>[Example 1. Two-tailed test](#scrollTo=xxAOUKnzwviu)\n",
        "\n",
        ">>>[Performing the test using the formulae](#scrollTo=L4oM3SUQyHMF)\n",
        "\n",
        ">>[Example 2. Upper tail test](#scrollTo=945BzlK6w4vH)\n",
        "\n",
        ">>>[Performing the test using the formulae](#scrollTo=2D33EE3Q1VQi)\n",
        "\n",
        ">>[Example 3. Lower tail test](#scrollTo=xwZePwfRxVYp)\n",
        "\n",
        ">>>[Performing the test using the formulae](#scrollTo=BW9Nfso_2NL9)\n",
        "\n",
        ">>[Example 4. Two tailed t test](#scrollTo=dVm9q66w2mek)\n",
        "\n",
        ">>>[Performing the test using the formulae](#scrollTo=24Wlslzu80nq)\n",
        "\n",
        ">>[Example 5. Power of the test for the mean (Example 8.7 Devore)](#scrollTo=Ldu5yHtF-uF4)\n",
        "\n",
        ">>[Example 6. Proportion test](#scrollTo=UoyEnWVlMkpm)\n",
        "\n",
        ">>[Example 7. Power of the test for the proportion (Example 8.14 Devore)](#scrollTo=824WC7MzQG9I)\n",
        "\n"
      ]
    },
    {
      "cell_type": "code",
      "metadata": {
        "id": "vM070SGmP_hH",
        "outputId": "c8223076-e02a-438e-aa56-9f448c73354e",
        "colab": {
          "base_uri": "https://localhost:8080/"
        }
      },
      "source": [
        "import numpy as np\n",
        "import pandas as pd\n",
        "import scipy.stats as ss\n",
        "\n",
        "import matplotlib.pyplot as plt\n",
        "import matplotlib.gridspec as gridspec\n",
        "\n",
        "#plt.style.use('seaborn-whitegrid')\n",
        "plt.style.use('seaborn')\n",
        "%matplotlib inline\n",
        "\n",
        "import statsmodels.stats.weightstats as smw\n",
        "import statsmodels.stats.proportion as smp"
      ],
      "execution_count": null,
      "outputs": [
        {
          "output_type": "stream",
          "name": "stderr",
          "text": [
            "<ipython-input-1-e9d596ca639c>:9: MatplotlibDeprecationWarning: The seaborn styles shipped by Matplotlib are deprecated since 3.6, as they no longer correspond to the styles shipped by seaborn. However, they will remain available as 'seaborn-v0_8-<style>'. Alternatively, directly use the seaborn API instead.\n",
            "  plt.style.use('seaborn')\n"
          ]
        }
      ]
    },
    {
      "cell_type": "markdown",
      "metadata": {
        "id": "_d8UFZabvkqT"
      },
      "source": [
        "# <font color=\"slateblue\">StatsModels: Python Functions for One-sample Tests</font>\n",
        "\n",
        "The `statsmodels` library contains a number of statistical tests and tools. It is based on `scipy.stats` (and we could actually run all the tests using `scipy.stats`) but it is more intuitive in the way in which the data is managed. Please, have a look at [http://www.statsmodels.org/stable/stats.html](http://www.statsmodels.org/stable/stats.html) for a broad description of the library.\n",
        "\n",
        "**NOTE**: These statistical functions in general can only be used to compute tests with **raw data**, i.e., when the entire dataset is provided. If summary data, i.e., $\\bar{x}, s, n$ are given, you will have to perform the test using the formulae.\n",
        "\n",
        "To import the library, use:\n",
        "\n",
        "```python\n",
        "import statsmodels.stats.weightstats as smw\n",
        "```\n",
        "\n",
        "The function we can use to perform one-sample tests is:\n",
        "- `DescrStatsW()`: To get sample statistics, as well as z-tests (large samples), t-tests (small samples), and confidence intervals. It can also be used to compute the power of a test and the sample size."
      ]
    },
    {
      "cell_type": "markdown",
      "metadata": {
        "id": "xxAOUKnzwviu"
      },
      "source": [
        "## <font color=\"indianred\">Example 1. Two-tailed test</t>\n",
        "\n",
        "Generate a random sample of $n=50$ observations under a normal distribution with mean $\\mu=75k$ and standard deviation $\\sigma=10k$. Generate a histogram to visualize the data distribution and compute some summary statistics. Then, test whether the population mean is different to $75k$, using $\\alpha=0.05$."
      ]
    },
    {
      "cell_type": "markdown",
      "metadata": {
        "id": "ckhJOHYNYjJg"
      },
      "source": [
        "State your hypotheses.\n",
        "\n",
        "\\begin{equation*}\n",
        "\\begin{cases} \n",
        "H_0 : & \\mu = 75k \\\\\n",
        "H_a : & \\mu \\neq 75k \\hspace1.5cm \\text{(claim)} \n",
        "\\end{cases}\n",
        "\\end{equation*}"
      ]
    },
    {
      "cell_type": "markdown",
      "metadata": {
        "id": "rkQvE-KSF-wY"
      },
      "source": [
        "We generate the sample"
      ]
    },
    {
      "cell_type": "code",
      "metadata": {
        "id": "Fb1xIo5bK59o",
        "colab": {
          "base_uri": "https://localhost:8080/"
        },
        "outputId": "a22fef6f-943f-4461-8cee-d31efdd4a468"
      },
      "source": [
        "np.random.seed(seed=1000)\n",
        "mu=75\n",
        "sigma=10\n",
        "n=50\n",
        "x = ss.norm.rvs(mu,sigma,n)\n",
        "x\n"
      ],
      "execution_count": null,
      "outputs": [
        {
          "output_type": "execute_result",
          "data": {
            "text/plain": [
              "array([ 66.95541696,  78.20931547,  74.7451712 ,  81.44323828,\n",
              "        71.99203327,  78.89474554,  73.92562698,  70.20016925,\n",
              "        80.95035502,  70.35332474,  81.67281307,  66.9388439 ,\n",
              "        63.03930166,  70.94039839,  73.1762266 ,  76.03192894,\n",
              "        73.61578011,  82.05692375,  87.71795276,  65.13252671,\n",
              "        71.65164547,  74.00518302,  79.071921  ,  84.19387539,\n",
              "        78.1211801 ,  90.33161065,  69.49826135,  71.16852589,\n",
              "        66.77059037,  91.00083368,  74.30718701,  75.83209492,\n",
              "        71.73075325,  74.54202812,  71.95539938,  94.2301013 ,\n",
              "        74.21340996,  69.17934277,  58.82017764,  83.67260817,\n",
              "        64.59562915,  81.50421425, 101.99645856,  83.02024514,\n",
              "        64.03078742,  73.21945554,  70.77129522,  71.69599452,\n",
              "        63.88837222,  67.57994249])"
            ]
          },
          "metadata": {},
          "execution_count": 9
        }
      ]
    },
    {
      "cell_type": "markdown",
      "metadata": {
        "id": "K9lWlj6FGEZo"
      },
      "source": [
        "We plot the histogram"
      ]
    },
    {
      "cell_type": "code",
      "metadata": {
        "id": "OrPzd0rMxUBp",
        "colab": {
          "base_uri": "https://localhost:8080/",
          "height": 484
        },
        "outputId": "9a1f8a7b-160e-4738-a665-925b88302a81"
      },
      "source": [
        "plt.hist(x, edgecolor=\"white\", bins=7)\n",
        "plt.show()"
      ],
      "execution_count": null,
      "outputs": [
        {
          "output_type": "display_data",
          "data": {
            "text/plain": [
              "<Figure size 800x550 with 1 Axes>"
            ],
            "image/png": "[encoded data removed]"
          },
          "metadata": {}
        }
      ]
    },
    {
      "cell_type": "markdown",
      "metadata": {
        "id": "ZKPhntuGGJ5i"
      },
      "source": [
        "We obtain some summary statistics using the function DescrStatsW() from Stats models"
      ]
    },
    {
      "cell_type": "code",
      "metadata": {
        "id": "Y7oAOGjajpR5",
        "colab": {
          "base_uri": "https://localhost:8080/"
        },
        "outputId": "3f80cab0-1be5-4b73-9cec-9d4dbf5ce8e7"
      },
      "source": [
        "res = smw.DescrStatsW(x)\n",
        "res.mean, res.std, res.std_mean #standard error"
      ],
      "execution_count": null,
      "outputs": [
        {
          "output_type": "execute_result",
          "data": {
            "text/plain": [
              "(75.09182433180268, 8.449616020637647, 1.2070880029482354)"
            ]
          },
          "metadata": {},
          "execution_count": 11
        }
      ]
    },
    {
      "cell_type": "markdown",
      "metadata": {
        "id": "1DHBiJY4F3na"
      },
      "source": [
        "We perform the test using Stats models. This is a two-tailed test, and we define the value of the parameter under the null mu0 =75"
      ]
    },
    {
      "cell_type": "code",
      "metadata": {
        "id": "WmsFl3sauKEB",
        "colab": {
          "base_uri": "https://localhost:8080/"
        },
        "outputId": "253736b9-144c-439f-f6f8-0923572fd42d"
      },
      "source": [
        "zStat, pVal = res.ztest_mean(value=75,alternative='two-sided')\n",
        "zStat, pVal"
      ],
      "execution_count": null,
      "outputs": [
        {
          "output_type": "execute_result",
          "data": {
            "text/plain": [
              "(0.07607095056732303, 0.9393626512443475)"
            ]
          },
          "metadata": {},
          "execution_count": 12
        }
      ]
    },
    {
      "cell_type": "markdown",
      "metadata": {
        "id": "77nRCYNz7WRH"
      },
      "source": [
        "Python provides the test statistic and the p-value. Given that $\\alpha$=0.05, let us calculate the critical region as follows:"
      ]
    },
    {
      "cell_type": "code",
      "metadata": {
        "id": "FWpxyIm5QGo4",
        "colab": {
          "base_uri": "https://localhost:8080/"
        },
        "outputId": "70710ebe-2371-4f76-ca59-b83a6b6a887d"
      },
      "source": [
        "ss.norm.ppf(.975)"
      ],
      "execution_count": null,
      "outputs": [
        {
          "output_type": "execute_result",
          "data": {
            "text/plain": [
              "1.959963984540054"
            ]
          },
          "metadata": {},
          "execution_count": 14
        }
      ]
    },
    {
      "cell_type": "markdown",
      "metadata": {
        "id": "kQ5vvZsv7tyx"
      },
      "source": [
        "Observe that the test statistic is smaller, in absolute value, than the critical value, so we fail to reject. This result is consistent with the p-value, which is greater than α=0.05"
      ]
    },
    {
      "cell_type": "markdown",
      "metadata": {
        "id": "1wFXvpQUz0EZ"
      },
      "source": [
        "Let us report the results using the function **print**. We also report the confidence interval. It is easy to see that the value under the null belongs to the confidence interval since we failed to reject."
      ]
    },
    {
      "cell_type": "code",
      "metadata": {
        "id": "G33_hQXc2_oI",
        "colab": {
          "base_uri": "https://localhost:8080/"
        },
        "outputId": "ab10692e-c32d-4598-fc41-6bdc13831f54"
      },
      "source": [
        "alpha=0.05\n",
        "# print some output\n",
        "print(\"One-sample Test with statsmodels.stats ::\")\n",
        "print(\"-\"*41)\n",
        "print(\"xbar    \\t = {0:6.3f}\".format(res.mean) )\n",
        "print(\"s       \\t = {0:6.3f}\".format(res.std) )\n",
        "print(\"SE       \\t = {0:6.3f}\".format(res.std_mean) )\n",
        "print(\"Test stat z \\t = {0:6.3f}\".format(zStat) )\n",
        "print(\"p-value  \\t = {0:6.3f}\".format(pVal) )\n",
        "if pVal < alpha:\n",
        "  print(\"Reject H0\")\n",
        "else:\n",
        "  print(\"Fail to reject H0\")\n",
        "print(\"-\"*41)\n",
        "  \n",
        "# we can also get the CI\n",
        "lower, upper = res.zconfint_mean(alpha=0.05, alternative='two-sided')\n",
        "print(\"{0:5.2f}% CI : [{1:6.3f}, {2:6.3f}]\".format((1-alpha)*100, lower, upper))\n",
        "\n",
        " "
      ],
      "execution_count": null,
      "outputs": [
        {
          "output_type": "stream",
          "name": "stdout",
          "text": [
            "One-sample Test with statsmodels.stats ::\n",
            "-----------------------------------------\n",
            "xbar    \t = 75.092\n",
            "s       \t =  8.450\n",
            "SE       \t =  1.207\n",
            "Test stat z \t =  0.076\n",
            "p-value  \t =  0.939\n",
            "Fail to reject H0\n",
            "-----------------------------------------\n",
            "95.00% CI : [72.726, 77.458]\n"
          ]
        }
      ]
    },
    {
      "cell_type": "markdown",
      "metadata": {
        "id": "L4oM3SUQyHMF"
      },
      "source": [
        "### Performing the test using the formulae\n"
      ]
    },
    {
      "cell_type": "markdown",
      "metadata": {
        "id": "DOjzVWUkHI-G"
      },
      "source": [
        "We calculate the required sample statistics using numpy"
      ]
    },
    {
      "cell_type": "code",
      "metadata": {
        "id": "knH4YZ9CTgwm"
      },
      "source": [
        "xbar=75.092\n",
        "s=8.45\n",
        "n=50\n",
        "mu0=75"
      ],
      "execution_count": null,
      "outputs": []
    },
    {
      "cell_type": "code",
      "source": [
        "se=s/np.sqrt(50)\n",
        "se"
      ],
      "metadata": {
        "id": "G8Q9k7nYArIg",
        "colab": {
          "base_uri": "https://localhost:8080/"
        },
        "outputId": "38d5db1d-f97d-4085-af2b-9e706501db6b"
      },
      "execution_count": null,
      "outputs": [
        {
          "output_type": "execute_result",
          "data": {
            "text/plain": [
              "1.1950104602052651"
            ]
          },
          "metadata": {},
          "execution_count": 13
        }
      ]
    },
    {
      "cell_type": "markdown",
      "metadata": {
        "id": "W_49HvaUHRK7"
      },
      "source": [
        "We calculate the test statistic and the p-value algebraically"
      ]
    },
    {
      "cell_type": "code",
      "metadata": {
        "colab": {
          "base_uri": "https://localhost:8080/"
        },
        "id": "xGf8gIhiLQ__",
        "outputId": "50250ead-04bb-4c4e-b6c4-3665f1f1b386"
      },
      "source": [
        "test_stat=(xbar-mu0)/se\n",
        "test_stat"
      ],
      "execution_count": null,
      "outputs": [
        {
          "output_type": "execute_result",
          "data": {
            "text/plain": [
              "0.07698677380965857"
            ]
          },
          "metadata": {},
          "execution_count": 14
        }
      ]
    },
    {
      "cell_type": "code",
      "source": [
        "(1-ss.norm.cdf(abs(test_stat)))*2"
      ],
      "metadata": {
        "colab": {
          "base_uri": "https://localhost:8080/"
        },
        "id": "vDwJOkz3Ck4B",
        "outputId": "f49b00b5-8b34-417a-f443-21badf29165b"
      },
      "execution_count": null,
      "outputs": [
        {
          "output_type": "execute_result",
          "data": {
            "text/plain": [
              "0.938634066709567"
            ]
          },
          "metadata": {},
          "execution_count": 15
        }
      ]
    },
    {
      "cell_type": "markdown",
      "metadata": {
        "id": "945BzlK6w4vH"
      },
      "source": [
        "## <font color=\"indianred\">Example 2. Upper tail test</t>\n",
        "Repeat the analysis for the population mean being greater than 75k."
      ]
    },
    {
      "cell_type": "markdown",
      "metadata": {
        "id": "llsuVTtO0l_E"
      },
      "source": [
        "State your hypotheses.\n",
        "\n",
        "\\begin{equation*}\n",
        "\\begin{cases} \n",
        "H_0 : & \\mu \\leq 75k \\\\\n",
        "H_a : & \\mu > 75k \\hspace1.5cm \\text{(claim)} \n",
        "\\end{cases}\n",
        "\\end{equation*}"
      ]
    },
    {
      "cell_type": "code",
      "metadata": {
        "id": "CjfEzkdsxHBl",
        "colab": {
          "base_uri": "https://localhost:8080/"
        },
        "outputId": "4c8e15a8-72dd-41cb-ce3d-944383cc3059"
      },
      "source": [
        "zStat, pVal = res.ztest_mean(value=75, alternative='larger')\n",
        "zStat, pVal"
      ],
      "execution_count": null,
      "outputs": [
        {
          "output_type": "execute_result",
          "data": {
            "text/plain": [
              "(0.07607095056732303, 0.46968132562217374)"
            ]
          },
          "metadata": {},
          "execution_count": 32
        }
      ]
    },
    {
      "cell_type": "code",
      "source": [
        "ss.norm.ppf(0.95)"
      ],
      "metadata": {
        "colab": {
          "base_uri": "https://localhost:8080/"
        },
        "id": "DR20gf571J8a",
        "outputId": "0c93fb7d-c8c8-4223-bcb2-a911ff15edab"
      },
      "execution_count": null,
      "outputs": [
        {
          "output_type": "execute_result",
          "data": {
            "text/plain": [
              "1.6448536269514722"
            ]
          },
          "metadata": {},
          "execution_count": 16
        }
      ]
    },
    {
      "cell_type": "code",
      "source": [
        "res.zconfint_mean(alpha=0.05, alternative='larger')"
      ],
      "metadata": {
        "colab": {
          "base_uri": "https://localhost:8080/"
        },
        "id": "WL0bUCWgXSQA",
        "outputId": "3cc4a6ce-2edf-4197-9653-4feb690f7430"
      },
      "execution_count": null,
      "outputs": [
        {
          "output_type": "execute_result",
          "data": {
            "text/plain": [
              "(73.10634125210368, inf)"
            ]
          },
          "metadata": {},
          "execution_count": 17
        }
      ]
    },
    {
      "cell_type": "markdown",
      "metadata": {
        "id": "2D33EE3Q1VQi"
      },
      "source": [
        "### Performing the test using the formulae\n",
        "\n"
      ]
    },
    {
      "cell_type": "code",
      "metadata": {
        "colab": {
          "base_uri": "https://localhost:8080/"
        },
        "id": "zjCdPddu1X6C",
        "outputId": "09fed02c-0f96-40b1-cb16-4408302d3e2b"
      },
      "source": [
        "\n",
        "pvalue=1-ss.norm.cdf(test_stat)\n",
        "test_stat,pvalue\n"
      ],
      "execution_count": null,
      "outputs": [
        {
          "output_type": "execute_result",
          "data": {
            "text/plain": [
              "(0.07698677380965857, 0.4693170333547835)"
            ]
          },
          "metadata": {},
          "execution_count": 34
        }
      ]
    },
    {
      "cell_type": "markdown",
      "metadata": {
        "id": "xwZePwfRxVYp"
      },
      "source": [
        "## <font color=\"indianred\">Example 3. Lower tail test</t>\n",
        "Repeat the analysis for the population mean being smaller than 75k."
      ]
    },
    {
      "cell_type": "markdown",
      "metadata": {
        "id": "Dc0omZc90m_E"
      },
      "source": [
        "State your hypotheses.\n",
        "\n",
        "\\begin{equation*}\n",
        "\\begin{cases} \n",
        "H_0 : & \\mu \\geq 75k \\\\\n",
        "H_a : & \\mu < 75k \\hspace1.5cm \\text{(claim)} \n",
        "\\end{cases}\n",
        "\\end{equation*}"
      ]
    },
    {
      "cell_type": "code",
      "metadata": {
        "id": "9UJ9rW3gwC_8",
        "colab": {
          "base_uri": "https://localhost:8080/"
        },
        "outputId": "fc47187f-5373-4093-d964-e2e4d42c3083"
      },
      "source": [
        "zStat, pVal = res.ztest_mean(value=75, alternative='smaller')\n",
        "zStat, pVal"
      ],
      "execution_count": null,
      "outputs": [
        {
          "output_type": "execute_result",
          "data": {
            "text/plain": [
              "(0.07607095056732303, 0.5303186743778262)"
            ]
          },
          "metadata": {},
          "execution_count": 16
        }
      ]
    },
    {
      "cell_type": "code",
      "source": [
        "ss.norm.ppf(0.05)"
      ],
      "metadata": {
        "colab": {
          "base_uri": "https://localhost:8080/"
        },
        "id": "jm0zTrTE2rs8",
        "outputId": "83906a29-0810-4049-dc44-a5d413eda44e"
      },
      "execution_count": null,
      "outputs": [
        {
          "output_type": "execute_result",
          "data": {
            "text/plain": [
              "-1.6448536269514729"
            ]
          },
          "metadata": {},
          "execution_count": 36
        }
      ]
    },
    {
      "cell_type": "code",
      "source": [
        "res.zconfint_mean(alpha=0.05, alternative='smaller')"
      ],
      "metadata": {
        "colab": {
          "base_uri": "https://localhost:8080/"
        },
        "id": "ahU0jeS3YCn1",
        "outputId": "5f79e77e-b316-47e5-ec3d-7741b25ba66c"
      },
      "execution_count": null,
      "outputs": [
        {
          "output_type": "execute_result",
          "data": {
            "text/plain": [
              "(-inf, 76.00581607700528)"
            ]
          },
          "metadata": {},
          "execution_count": 212
        }
      ]
    },
    {
      "cell_type": "markdown",
      "metadata": {
        "id": "BW9Nfso_2NL9"
      },
      "source": [
        "### Performing the test using the formulae\n",
        "\n"
      ]
    },
    {
      "cell_type": "code",
      "metadata": {
        "colab": {
          "base_uri": "https://localhost:8080/"
        },
        "id": "HexNuNv22SxT",
        "outputId": "0bc47c7c-88c7-4f76-8631-1699ab457b73"
      },
      "source": [
        "pvalue=ss.norm.cdf(test_stat)\n",
        "test_stat,pvalue\n"
      ],
      "execution_count": null,
      "outputs": [
        {
          "output_type": "execute_result",
          "data": {
            "text/plain": [
              "(0.07698677380965857, 0.5306829666452165)"
            ]
          },
          "metadata": {},
          "execution_count": 37
        }
      ]
    },
    {
      "cell_type": "markdown",
      "metadata": {
        "id": "dVm9q66w2mek"
      },
      "source": [
        "## <font color=\"indianred\">Example 4. Two tailed t test</t>\n",
        "Repeat the analysis for the population mean being different to 75k but using n=15"
      ]
    },
    {
      "cell_type": "markdown",
      "metadata": {
        "id": "GHfN0oOyIHRV"
      },
      "source": [
        "We generate the sample using n=15"
      ]
    },
    {
      "cell_type": "code",
      "metadata": {
        "colab": {
          "base_uri": "https://localhost:8080/"
        },
        "id": "8GEhR7GB24V_",
        "outputId": "515cb6bf-bc4f-4d9a-ad79-8589e4b547e7"
      },
      "source": [
        "np.random.seed(seed=1000)\n",
        "mu=75\n",
        "sigma=10\n",
        "n=15\n",
        "x = ss.norm.rvs(mu,sigma,n)\n",
        "x"
      ],
      "execution_count": null,
      "outputs": [
        {
          "output_type": "execute_result",
          "data": {
            "text/plain": [
              "array([66.95541696, 78.20931547, 74.7451712 , 81.44323828, 71.99203327,\n",
              "       78.89474554, 73.92562698, 70.20016925, 80.95035502, 70.35332474,\n",
              "       81.67281307, 66.9388439 , 63.03930166, 70.94039839, 73.1762266 ])"
            ]
          },
          "metadata": {},
          "execution_count": 17
        }
      ]
    },
    {
      "cell_type": "markdown",
      "metadata": {
        "id": "bbOwKMu_IMEn"
      },
      "source": [
        "We plot the histogram and provide some summary statistics"
      ]
    },
    {
      "cell_type": "code",
      "metadata": {
        "colab": {
          "base_uri": "https://localhost:8080/",
          "height": 484
        },
        "id": "2RlO6zzS2-Ma",
        "outputId": "f6769375-6a34-4cde-ad05-156a2a0d8fed"
      },
      "source": [
        "plt.hist(x, edgecolor=\"white\", bins=10)\n",
        "plt.show()"
      ],
      "execution_count": null,
      "outputs": [
        {
          "output_type": "display_data",
          "data": {
            "text/plain": [
              "<Figure size 800x550 with 1 Axes>"
            ],
            "image/png": "[encoded data removed]"
          },
          "metadata": {}
        }
      ]
    },
    {
      "cell_type": "code",
      "metadata": {
        "colab": {
          "base_uri": "https://localhost:8080/"
        },
        "id": "yy5mqLLu3Mlc",
        "outputId": "19e6d229-22d9-4135-f20b-3eabbe8f939a"
      },
      "source": [
        "res=smw.DescrStatsW(x)\n",
        "res.mean, res.std, res.std_mean"
      ],
      "execution_count": null,
      "outputs": [
        {
          "output_type": "execute_result",
          "data": {
            "text/plain": [
              "(73.56246535521977, 5.5580515657141225, 1.4854517640660512)"
            ]
          },
          "metadata": {},
          "execution_count": 19
        }
      ]
    },
    {
      "cell_type": "markdown",
      "metadata": {
        "id": "abaVQUfVIYw9"
      },
      "source": [
        "We use the t distribution with n-1=14 degrees of freedom"
      ]
    },
    {
      "cell_type": "code",
      "metadata": {
        "colab": {
          "base_uri": "https://localhost:8080/"
        },
        "id": "9vtreRJ4p1Fu",
        "outputId": "cd5bdb9f-bbf7-41c5-9aa2-83b2176f52bb"
      },
      "source": [
        "tStat, pVal, dfreedom = res.ttest_mean(value=75, alternative='two-sided')\n",
        "tStat, pVal, dfreedom"
      ],
      "execution_count": null,
      "outputs": [
        {
          "output_type": "execute_result",
          "data": {
            "text/plain": [
              "(-0.9677423929575057, 0.3495948201818756, 14.0)"
            ]
          },
          "metadata": {},
          "execution_count": 21
        }
      ]
    },
    {
      "cell_type": "markdown",
      "metadata": {
        "id": "o2uISB7f67ah"
      },
      "source": [
        "We calculate the critical value"
      ]
    },
    {
      "cell_type": "code",
      "metadata": {
        "colab": {
          "base_uri": "https://localhost:8080/"
        },
        "id": "edhHGV6X3tIr",
        "outputId": "10861c9e-4133-4dd4-d28d-d3ddf0cb22b1"
      },
      "source": [
        "ss.t.ppf(0.975,dfreedom)"
      ],
      "execution_count": null,
      "outputs": [
        {
          "output_type": "execute_result",
          "data": {
            "text/plain": [
              "2.1447866879169273"
            ]
          },
          "metadata": {},
          "execution_count": 22
        }
      ]
    },
    {
      "cell_type": "markdown",
      "metadata": {
        "id": "bBfc9krV7WAB"
      },
      "source": [
        "Observe that the test statistic is smaller, in absolute value, than the critical value, so we fail to reject. This result is consistent with the p-value, greater than $\\alpha$=0.05"
      ]
    },
    {
      "cell_type": "code",
      "source": [
        "res.tconfint_mean(alpha=0.05, alternative='two-sided') "
      ],
      "metadata": {
        "colab": {
          "base_uri": "https://localhost:8080/"
        },
        "id": "73HWyGuDYzG6",
        "outputId": "2455b569-bb66-4dda-8a3b-9c266fd40783"
      },
      "execution_count": null,
      "outputs": [
        {
          "output_type": "execute_result",
          "data": {
            "text/plain": [
              "(70.37648818610819, 76.74844252433135)"
            ]
          },
          "metadata": {},
          "execution_count": 213
        }
      ]
    },
    {
      "cell_type": "markdown",
      "metadata": {
        "id": "24Wlslzu80nq"
      },
      "source": [
        "### Performing the test using the formulae\n",
        "\n"
      ]
    },
    {
      "cell_type": "code",
      "metadata": {
        "colab": {
          "base_uri": "https://localhost:8080/"
        },
        "id": "19KB1ToL70dw",
        "outputId": "4dde16d3-27fb-4364-f23c-986b8334ebce"
      },
      "source": [
        "xbar=73.56246535521977\n",
        "s=5.5680515657141225\n",
        "se=1.4854517640660512\n",
        "test_stat=(xbar-75)/se\n",
        "pvalue=(1-ss.t.cdf(abs(test_stat),df=n-1))*2\n",
        "test_stat,pvalue"
      ],
      "execution_count": null,
      "outputs": [
        {
          "output_type": "execute_result",
          "data": {
            "text/plain": [
              "(-0.9677423929575057, 0.3495948201818755)"
            ]
          },
          "metadata": {},
          "execution_count": 58
        }
      ]
    },
    {
      "cell_type": "markdown",
      "metadata": {
        "id": "Ldu5yHtF-uF4"
      },
      "source": [
        "## <font color=\"indianred\">Example 5. Power of the test for the mean (Example 8.7 Devore)\n",
        "Consider testing $H_o:\\mu=30,000$ versus $H_a:\\mu>30,000$ based on a sample of size n=16 from a normal population distribution with $\\sigma=1500$. A test with $\\alpha=.01$ requires $z_{\\alpha}=z_{.01}=2.33$. Calculate the probability of making a type II error when $\\mu'=31,000$"
      ]
    },
    {
      "cell_type": "markdown",
      "source": [
        "Assuming Normality"
      ],
      "metadata": {
        "id": "NX2x40MB44yp"
      }
    },
    {
      "cell_type": "code",
      "source": [
        "import statsmodels.stats.power as ssp"
      ],
      "metadata": {
        "id": "HbNWpW8732Zv"
      },
      "execution_count": null,
      "outputs": []
    },
    {
      "cell_type": "markdown",
      "source": [
        "Power of the test"
      ],
      "metadata": {
        "id": "4bqxD5JSUWrA"
      }
    },
    {
      "cell_type": "code",
      "source": [
        "ssp.normal_power_het(1000, 16, 0.01, std_null=1500, std_alternative=None, alternative='larger')"
      ],
      "metadata": {
        "colab": {
          "base_uri": "https://localhost:8080/"
        },
        "id": "9L2yc9EKAloD",
        "outputId": "40a853b1-d899-4b97-e67e-b411b19590e0"
      },
      "execution_count": null,
      "outputs": [
        {
          "output_type": "execute_result",
          "data": {
            "text/plain": [
              "0.6331917667993824"
            ]
          },
          "metadata": {},
          "execution_count": 30
        }
      ]
    },
    {
      "cell_type": "markdown",
      "source": [
        "Required sample size"
      ],
      "metadata": {
        "id": "EJeSiGCzVhkp"
      }
    },
    {
      "cell_type": "code",
      "source": [
        "ssp.zt_ind_solve_power(effect_size=(30100-30000)/1500, nobs1=None, alpha=0.01, power=0.99, ratio=0, alternative='larger')"
      ],
      "metadata": {
        "colab": {
          "base_uri": "https://localhost:8080/"
        },
        "id": "yHdIPpVKClvt",
        "outputId": "ea22a7fa-529d-44cd-d62a-33f251ec3100"
      },
      "execution_count": null,
      "outputs": [
        {
          "output_type": "execute_result",
          "data": {
            "text/plain": [
              "4870.70498793308"
            ]
          },
          "metadata": {},
          "execution_count": 33
        }
      ]
    },
    {
      "cell_type": "markdown",
      "source": [
        "Using the t"
      ],
      "metadata": {
        "id": "AlepURiA49qo"
      }
    },
    {
      "cell_type": "code",
      "source": [
        "from statsmodels.stats.power import TTestPower"
      ],
      "metadata": {
        "id": "ZWv4eCUNBH3F"
      },
      "execution_count": null,
      "outputs": []
    },
    {
      "cell_type": "markdown",
      "source": [
        "Power of the test"
      ],
      "metadata": {
        "id": "trACoiBQVm5q"
      }
    },
    {
      "cell_type": "code",
      "metadata": {
        "colab": {
          "base_uri": "https://localhost:8080/"
        },
        "id": "q0Ew6gHsuTLB",
        "outputId": "c889cadd-171e-447b-e473-e581f2e6d941"
      },
      "source": [
        "TTestPower().power(effect_size=(31000-30000)/1500, nobs=16, alternative='larger',alpha=0.01)"
      ],
      "execution_count": null,
      "outputs": [
        {
          "output_type": "execute_result",
          "data": {
            "text/plain": [
              "0.5395840727578776"
            ]
          },
          "metadata": {},
          "execution_count": 185
        }
      ]
    },
    {
      "cell_type": "markdown",
      "source": [
        "Solving for n"
      ],
      "metadata": {
        "id": "xqS339sFBWFy"
      }
    },
    {
      "cell_type": "code",
      "source": [
        "TTestPower().solve_power(effect_size=(31000-30000)/1500, nobs=None, alpha=0.01, power=0.5395840727578776, alternative='larger')"
      ],
      "metadata": {
        "colab": {
          "base_uri": "https://localhost:8080/"
        },
        "id": "St9vw-Z97ndT",
        "outputId": "e6b62c40-4de4-4446-aed8-b7a370a363aa"
      },
      "execution_count": null,
      "outputs": [
        {
          "output_type": "execute_result",
          "data": {
            "text/plain": [
              "16.000000002734126"
            ]
          },
          "metadata": {},
          "execution_count": 31
        }
      ]
    },
    {
      "cell_type": "markdown",
      "metadata": {
        "id": "UoyEnWVlMkpm"
      },
      "source": [
        "## <font color=\"indianred\">Example 6. Proportion test</t>\n",
        "\n",
        "In Redonda Island, a random sample of 100 people shows that 55 support the present Queen. Test if the true proportion of Queen's supporters is different from $0.60$, using $\\alpha=0.05$."
      ]
    },
    {
      "cell_type": "markdown",
      "metadata": {
        "id": "3VPekxldQFRi"
      },
      "source": [
        "State your hypotheses.\n",
        "\n",
        "\\begin{equation*}\n",
        "\\begin{cases} \n",
        "H_0 : & p = 0.6 \\\\\n",
        "H_a : & p \\neq 0.6 \\hspace1.5cm \\text{(claim)} \n",
        "\\end{cases}\n",
        "\\end{equation*}"
      ]
    },
    {
      "cell_type": "markdown",
      "metadata": {
        "id": "Ez9Dbo7-QdEz"
      },
      "source": [
        "We solve the exercise using **statsmodels**"
      ]
    },
    {
      "cell_type": "markdown",
      "metadata": {
        "id": "DTH0zl-3QzV2"
      },
      "source": [
        "We define the null hypothesis as p0=0.6"
      ]
    },
    {
      "cell_type": "code",
      "source": [
        "n=100\n",
        "x=55\n",
        "phat=x/n\n",
        "phat*(1-phat)*n"
      ],
      "metadata": {
        "colab": {
          "base_uri": "https://localhost:8080/"
        },
        "id": "4qHklda7ebAr",
        "outputId": "975cbda7-37cd-4fad-c172-956e82412b66"
      },
      "execution_count": null,
      "outputs": [
        {
          "output_type": "execute_result",
          "data": {
            "text/plain": [
              "24.75"
            ]
          },
          "metadata": {},
          "execution_count": 33
        }
      ]
    },
    {
      "cell_type": "code",
      "metadata": {
        "id": "3bc0FaoFQ3p6"
      },
      "source": [
        "p0=0.6"
      ],
      "execution_count": null,
      "outputs": []
    },
    {
      "cell_type": "code",
      "metadata": {
        "colab": {
          "base_uri": "https://localhost:8080/"
        },
        "id": "GYULBnXwLHgH",
        "outputId": "bd6f6986-a9b4-430d-9d64-e99cfcaf5ef6"
      },
      "source": [
        "smp.proportions_ztest(count=55, nobs=100, value=p0, alternative='two-sided', prop_var=p0)\n"
      ],
      "execution_count": null,
      "outputs": [
        {
          "output_type": "execute_result",
          "data": {
            "text/plain": [
              "(-1.0206207261596563, 0.3074341659273959)"
            ]
          },
          "metadata": {},
          "execution_count": 36
        }
      ]
    },
    {
      "cell_type": "markdown",
      "metadata": {
        "id": "MLIAH3s7Q_jl"
      },
      "source": [
        "If the true proportion of supporters is 60%, the probability of taking a sample of 100 individuals and obtaining $phat=0.55$ is $0.31$ since the sample statistic is approximately 1 standard error from the population parameter under the null. Hence, we fail to reject the null hypothesis, there is no evidence enough to reject that the supporters of the Queen are 60%  "
      ]
    },
    {
      "cell_type": "markdown",
      "metadata": {
        "id": "IUVAwzEcSHmn"
      },
      "source": [
        "We solve the exercise using **scipy.stats**"
      ]
    },
    {
      "cell_type": "code",
      "metadata": {
        "colab": {
          "base_uri": "https://localhost:8080/"
        },
        "id": "bmu1mUimSQA9",
        "outputId": "84635aac-18c7-4f31-fe71-24b8afb250ff"
      },
      "source": [
        "p0=0.6\n",
        "n=100 \n",
        "successes=55\n",
        "phat=successes/n\n",
        "se=np.sqrt(p0*(1-p0)/n)\n",
        "test_stat=(phat-p0)/se\n",
        "pVal=(1-ss.norm.cdf(abs(test_stat)))*2\n",
        "test_stat,pVal"
      ],
      "execution_count": null,
      "outputs": [
        {
          "output_type": "execute_result",
          "data": {
            "text/plain": [
              "(-1.0206207261596563, 0.30743416592739603)"
            ]
          },
          "metadata": {},
          "execution_count": 35
        }
      ]
    },
    {
      "cell_type": "markdown",
      "source": [
        "## <font color=\"indianred\">Example 7. Power of the test for the proportion (Example 8.14 Devore)\n",
        "Let p denote the true proportion of packages that are delivered as advertised and consider the hypotheses $H_o:p=0.9$ versus $H_a:p<0.9$. If only 80% of the packages are delivered as advertised, how likely is it that a level 0.01 test based on n=225 packages will detect such a departure from $H_{o}$"
      ],
      "metadata": {
        "id": "824WC7MzQG9I"
      }
    },
    {
      "cell_type": "code",
      "source": [
        "ssp.normal_power_het(-0.1, 225, 0.01, std_null=0.3, std_alternative=0.4, alternative='smaller')"
      ],
      "metadata": {
        "colab": {
          "base_uri": "https://localhost:8080/"
        },
        "id": "3U8ZEdz8HzXo",
        "outputId": "f0f99d99-ddaa-4f4b-d92e-32391a3b5abe"
      },
      "execution_count": null,
      "outputs": [
        {
          "output_type": "execute_result",
          "data": {
            "text/plain": [
              "0.9775312537544812"
            ]
          },
          "metadata": {},
          "execution_count": 204
        }
      ]
    },
    {
      "cell_type": "code",
      "source": [
        "ssp.zt_ind_solve_power(effect_size=-0.1/0.35, nobs1=None, alpha=0.01, power=0.99, ratio=0, alternative='smaller')"
      ],
      "metadata": {
        "colab": {
          "base_uri": "https://localhost:8080/"
        },
        "id": "XbmvCAUcRqQ4",
        "outputId": "c56fd6ac-4065-4403-f740-abb727611921"
      },
      "execution_count": null,
      "outputs": [
        {
          "output_type": "execute_result",
          "data": {
            "text/plain": [
              "265.18282757340137"
            ]
          },
          "metadata": {},
          "execution_count": 209
        }
      ]
    }
  ]
}