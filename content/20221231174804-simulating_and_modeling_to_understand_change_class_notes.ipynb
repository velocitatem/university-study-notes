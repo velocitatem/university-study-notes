{
  "cells": [
    {
      "cell_type": "markdown",
      "metadata": {},
      "source": "Simulating and Modeling to Understand Change - Class Notes\n==========================================================\n\n"
    },
    {
      "cell_type": "markdown",
      "metadata": {},
      "source": [
        "\n# Table of Contents\n\n\n\n<script data-name=\"BMC-Widget\" data-cfasync=\"false\" src=\"https://cdnjs.buymeacoffee.com/1.0.0/widget.prod.min.js\" data-id=\"velocitatem24\" data-description=\"Support me on Buy me a coffee!\" data-message=\"\" data-color=\"#5F7FFF\" data-position=\"Right\" data-x_margin=\"18\" data-y_margin=\"18\"></script>\n\n<script>setTimeout(() => {alert(\"Finding this useful? Consider buying me a coffee! Bottom right cornner :) Takes just a few seconds\")}, 60*1000);_paq.push(['trackEvent', 'Exposure', 'Exposed to beg']);</script>\n\n**New** search feature! Make use of the amazing [fuzzy search](https://en.wikipedia.org/wiki/Approximate_string_matching) algorithm. Just type in the search box and it will find the closest match in the page. Hit `Enter` to jump to the next match. Lmk if it doesn't work for you.\n\n<input id=\"search\" type=\"text\" placeholder=\"Search\" /> <span id=\"resultCount\"></span>\n\n<script src=\"https://alves.world/fuzzy.js\"></script>\n\n<footer style=\"height: 20vh;\"></footer>\n\n"
      ]
    },
    {
      "cell_type": "markdown",
      "metadata": {},
      "source": [
        "## Programming (Python)\n\n"
      ]
    },
    {
      "cell_type": "markdown",
      "metadata": {},
      "source": [
        "-   **Optional Arguments:** This is a great way to make code more flexible. It is used in function definitions like so:\n\n"
      ]
    },
    {
      "cell_type": "code",
      "execution_count": 1,
      "metadata": {},
      "outputs": [],
      "source": [
        "def my_function(a, b, c=1, d=2):\n    print(a, b, c, d)"
      ]
    },
    {
      "cell_type": "markdown",
      "metadata": {},
      "source": [
        "-   **Global Variables:** This is a variable that can be accessed from anywhere in the code. It is defined outside of any function. Here is an example:\n\n"
      ]
    },
    {
      "cell_type": "code",
      "execution_count": 1,
      "metadata": {},
      "outputs": [],
      "source": [
        "x = 1\ndef my_function():\n    global x\n    x = 2\nmy_function()\nprint(x)"
      ]
    },
    {
      "cell_type": "markdown",
      "metadata": {},
      "source": [
        "### Lists\n\n"
      ]
    },
    {
      "cell_type": "markdown",
      "metadata": {},
      "source": [
        "-   **Adding normal lists:** If we add normal, lists we get a new list with the elements of both lists\n\n"
      ]
    },
    {
      "cell_type": "code",
      "execution_count": 1,
      "metadata": {},
      "outputs": [
        {
          "name": "stdout",
          "output_type": "stream",
          "text": [
            ": [1, 2, 3, 4, 5, 6]"
          ]
        }
      ],
      "source": [
        "a = [1, 2, 3]\nb = [4, 5, 6]\nc = a + b\nprint(c)"
      ]
    },
    {
      "cell_type": "markdown",
      "metadata": {},
      "source": [
        "-   **Numpy **atomic** vector:** This is a vector, that can only store **one** type of data.\n-   **Dataframe Statistics:** We can get statistics from a dataframe using the describe() function\n\n"
      ]
    },
    {
      "cell_type": "code",
      "execution_count": 1,
      "metadata": {},
      "outputs": [
        {
          "name": "stdout",
          "output_type": "stream",
          "text": [
            ":          a    b\n  : count  3.0  3.0\n  : mean   2.0  5.0\n  : std    1.0  1.0\n  : min    1.0  4.0\n  : 25%    1.5  4.5\n  : 50%    2.0  5.0\n  : 75%    2.5  5.5\n  : max    3.0  6.0"
          ]
        }
      ],
      "source": [
        "import pandas as pd\ndf = pd.DataFrame({'a': [1, 2, 3], 'b': [4, 5, 6]})\nprint(df.describe())"
      ]
    },
    {
      "cell_type": "markdown",
      "metadata": {},
      "source": [
        "## Introduction\n\n"
      ]
    },
    {
      "cell_type": "markdown",
      "metadata": {},
      "source": [
        "### Systems\n\n"
      ]
    },
    {
      "cell_type": "markdown",
      "metadata": {},
      "source": [
        "A system is a group of objects that work together to achieve a goal. It consists of two environments: the inside and the outside. Each entity in the system has attributes or can do activities. A state can be defined for the system or components of the system. Examples of systems include computer systems, forests, restaurants, and banks. The key components of a system are the entities, attributes, activities, states, and events. Systems can be either discrete or continuous, such as the people in a bank or the water levels in a river.\n\n"
      ]
    },
    {
      "cell_type": "markdown",
      "metadata": {},
      "source": [
        "### Models\n\n"
      ]
    },
    {
      "cell_type": "markdown",
      "metadata": {},
      "source": [
        "A model is an abstraction of a real-life situation, where the complexity of the model increases with the number of variables that are taken into account. The simplicity or realism of a model is determined by how closely it reflects the actual situation it is representing.\n\n"
      ]
    },
    {
      "cell_type": "markdown",
      "metadata": {},
      "source": [
        "### Simulation\n\n"
      ]
    },
    {
      "cell_type": "markdown",
      "metadata": {},
      "source": [
        "Simulation is a great tool to use when attempting to gain insights into the behavior of complex systems. Stochastic simulations rely on randomness to predict events, while deterministic simulations are based on predetermined inputs. For example, a restaurant/shop system can be simulated by making assumptions about the number of customers and employees in the system. Simulations are advantageous because they are cheaper, faster, replicable, safer, ethical, and legal when compared to real-life experiments. The decision between using a stochastic or deterministic simulation depends on the circumstances and the desired outputs.\n\n-   The point in which the state of a system changes is called an event.\n\n"
      ]
    },
    {
      "cell_type": "markdown",
      "metadata": {},
      "source": [
        "#### Deterministic\n\n"
      ]
    },
    {
      "cell_type": "markdown",
      "metadata": {},
      "source": [
        "In physics, determinism is the idea that all events are predetermined. There is no room for randomness or probability, as all changes are predetermined by the laws of nature. An example of this is an account gaining and losing followers, which is predetermined by the actions of the account holder. To simulate this process in Python, one could create a loop that tracks the number of followers gained and lost over time and stores it in a variable. This variable could then be used to print out the number of followers at any given time.\n\n"
      ]
    },
    {
      "cell_type": "markdown",
      "metadata": {},
      "source": [
        "#### Stochastic\n\n"
      ]
    },
    {
      "cell_type": "markdown",
      "metadata": {},
      "source": [
        "Stochastic simulation is a modelling technique which incorporates randomness, making use of random variables to generate a variety of possible outcomes. It is used for analysing complex systems in which the effects of randomness cannot be predicted deterministically, and thus provides a useful tool for predicting and understanding the behaviour of such systems.\n\n"
      ]
    },
    {
      "cell_type": "markdown",
      "metadata": {},
      "source": [
        "#### Statics vs Dynamic\n\n"
      ]
    },
    {
      "cell_type": "markdown",
      "metadata": {},
      "source": [
        "Simulations are typically classified as either static or dynamic. In a static simulation, there is no time variable; the system is unchanging and the same set of conditions is used throughout the simulation. In a dynamic simulation, time is a variable, meaning that the system is constantly changing and the conditions of the simulation can evolve over time.\n\n"
      ]
    },
    {
      "cell_type": "markdown",
      "metadata": {},
      "source": [
        "#### Decision Tree\n\n"
      ]
    },
    {
      "cell_type": "markdown",
      "metadata": {},
      "source": [
        "![img](./Introduction/2023-02-25_16-21-50_xP0n3i8m34Ntdi9ZUmKwCD25cHEOr5KjDGwANQJU7jEY2Weh4WDJag_thFYhORQ2EoYF2jPJ9iWeROf2gllg7WcK4sbL0EnEbaAFQXngVxvOnf6sl1lD91WNV2CWX2J6CgPHuOgPyJnycE0p3YjNFoArT9clD2X1AMbb6zQGoUYTb9QxOcluHcY_zBtbVFBSSJv75lxt_ktUv_W6.png)\n\nI hope this is right.\n\n"
      ]
    },
    {
      "cell_type": "markdown",
      "metadata": {},
      "source": [
        "### A Seed\n\n"
      ]
    },
    {
      "cell_type": "markdown",
      "metadata": {},
      "source": [
        "A seed is any number that can be used to replicate semi-random experiments and simulations. It allows for the same experiment to be repeated in the same way, with the same conditions and results, by using the same seed each time. This makes it easy to compare results from different experiments and simulations, as the same starting point can be replicated.\n\n"
      ]
    },
    {
      "cell_type": "markdown",
      "metadata": {},
      "source": [
        "## Random Numbers Generation\n\n"
      ]
    },
    {
      "cell_type": "markdown",
      "metadata": {},
      "source": [
        "-   getting randomness is almost impossible\n-   People confuse randomness with strangeness\n-   Continuous distribution to discrete on range 0 to 1 - can be done by rounding\n-   Properties of pseudo-random numbers: uniform, independent, unpredictable\n-   Testing the randomness of a sequence of numbers:\n    -   Look at the distribution of the numbers (visual) - should be uniform\n    -   See if there is any pattern\n-   Algorithms:\n    -   must be fast\n    -   must be long\n    -   should be repeatable with a seed\n-   Setting seed in python `random.seed(2023)`\n-   We can generate $n$ random numbers with python by using `np.random.uniform(min,max,nax)`\n\n"
      ]
    },
    {
      "cell_type": "markdown",
      "metadata": {},
      "source": [
        "### Linear Congruential Method\n\n"
      ]
    },
    {
      "cell_type": "markdown",
      "metadata": {},
      "source": [
        "-   We get a random like pattern.\n-   It is a linear transformation of a previous number\n-   Equation: $x_{n} = (a x_{n-1} + c) \\mod m$\n\n"
      ]
    },
    {
      "cell_type": "code",
      "execution_count": 1,
      "metadata": {},
      "outputs": [
        {
          "name": "stdout",
          "output_type": "stream",
          "text": [
            "[0.0625 0.8125 0.5625 0.3125 0.0625 0.8125 0.5625 0.3125 0.0625]"
          ]
        }
      ],
      "source": [
        "import numpy as np\ndef LCM(n, seed, a, c, m):\n    x = [seed]\n    for i in range(1,n+1):\n        x.append((a*x[i-1] + c) % m)\n    u = np.array(x)/m\n    return u\n\nseq =LCM(n=8, seed=4, a=13, c=0, m=64)\nprint(seq)"
      ]
    },
    {
      "cell_type": "markdown",
      "metadata": {},
      "source": [
        "-   Those results are pretty bad\n\n"
      ]
    },
    {
      "cell_type": "markdown",
      "metadata": {},
      "source": [
        "## Testing Randomness\n\n"
      ]
    },
    {
      "cell_type": "markdown",
      "metadata": {},
      "source": [
        "To check if we have an actually random generator, we need to test **uniformity** and **independence**.\n\n"
      ]
    },
    {
      "cell_type": "markdown",
      "metadata": {},
      "source": [
        "### Testing Uniformity\n\n"
      ]
    },
    {
      "cell_type": "markdown",
      "metadata": {},
      "source": [
        "-   We test using hypothesis testing\n    -   Null hypothesis = sequence is uniform\n    -   Alternative hypothesis = sequence is not uniform\n-   We use an alpha level of 0.05. If our $p$ is less than 0.05 we reject the null hypothesis, otherwise we fail to reject the null hypothesis\n-   We want to fail to reject the null hypothesis to have uniformity.\n-   The test we use is **Kolmogrov-Smirnov** test\n-   We use the function `stats.kstest` from the `scipy.stats` library\n\n"
      ]
    },
    {
      "cell_type": "markdown",
      "metadata": {},
      "source": [
        "### Testing Independence\n\n"
      ]
    },
    {
      "cell_type": "markdown",
      "metadata": {},
      "source": [
        "-   We again make use of hypothesis testing\n    -   Null hypothesis = sequence is independent\n    -   Alternative hypothesis = sequence is not independent\n-   To test for the dependence of each number, we use correlation\n-   The specific type of correlation we use is **autocorrelation**\n    -   This means that we correlate the number and the sequence\n-   When we auto-correlate, we need to have a lag\n    -   This is the number of steps we take ahead in the sequence\n-   We can use a pandas data frame:\n\n"
      ]
    },
    {
      "cell_type": "code",
      "execution_count": 1,
      "metadata": {},
      "outputs": [
        {
          "data": {
            "image/png": "[encoded data removed]",
            "text/plain": "<matplotlib.figure.Figure>"
          },
          "metadata": {},
          "output_type": "display_data"
        }
      ],
      "source": [
        "import numpy as np\nimport pandas as pd\nimport matplotlib.pyplot as plt\nseq = np.random.uniform(0,1,100)\ndf = pd.DataFrame(seq, columns=['values'])\npd.plotting.autocorrelation_plot(df['values'])\nplt.savefig(\"autocorrelation.png\")\nreturn \"autocorrelation.png\""
      ]
    },
    {
      "cell_type": "markdown",
      "metadata": {},
      "source": [
        "In the above plot:\n\n-   If the line is within the dashed lines, we fail to reject the null hypothesis\n\nWe need a more robust way of assessing if the sequence is independent:\n\n"
      ]
    },
    {
      "cell_type": "code",
      "execution_count": 1,
      "metadata": {},
      "outputs": [],
      "source": [
        "acf, confint = statstools.acf(seq, alpha=0.05, nlags=10)\nlbvalue, pvalue = statstools.q_stat(acf[1:], len(seq))\nprint(\"p-value: \", pvalue)"
      ]
    },
    {
      "cell_type": "markdown",
      "metadata": {},
      "source": [
        "Now we can use the p-value to test for independence.\n\nA key point here, is the difference between correlation and autocorrelation.\n\n| Correlation|Autocorrelation|\n|---|---|\n| Correlates two variables|Correlates a variable with itself|\n| No lag|Lag|\n\n"
      ]
    },
    {
      "cell_type": "markdown",
      "metadata": {},
      "source": [
        "## Discrete Random Variable Simulation\n\n"
      ]
    },
    {
      "cell_type": "markdown",
      "metadata": {},
      "source": [
        "A random variable is a variable, with some potential outcomes, that is determined by their respective probabilities.\n\n-   **Probability Mass Function:** This is a function that gives the probability of a discrete random variable taking on a specific value.\n-   **Cumulative Distribution Function:** This is a function that gives the probability of a discrete random variable taking on a value less than or equal to a specific value.\n\n"
      ]
    },
    {
      "cell_type": "markdown",
      "metadata": {},
      "source": [
        "### Bernoulli Distribution\n\n"
      ]
    },
    {
      "cell_type": "markdown",
      "metadata": {},
      "source": [
        "-   This is a discrete random variable with two possible outcomes\n-   The probability of the first outcome is $p$\n-   The probability of the second outcome is $1-p$\n-   The general pmf is given by $f(x) = p^x(1-p)^{1-x}$\n-   Expected value and variance are given by $E(X) = p$ and $Var(X) = p(1-p)$\n-   We can simulate this in python using `np.random.binomial(1,p,n)`\n\n"
      ]
    },
    {
      "cell_type": "markdown",
      "metadata": {},
      "source": [
        "### Binomial Distribution\n\n"
      ]
    },
    {
      "cell_type": "markdown",
      "metadata": {},
      "source": [
        "-   Very similar to the Bernoulli distribution\n    -   Key difference is that we have $n$ trials\n-   The general pmf is given by $f(x) = \\binom{n}{x}p^x(1-p)^{n-x}$\n-   Expected value and variance are given by $E(X) = np$ and $Var(X) = np(1-p)$\n-   We can simulate this in python using `np.random.binomial(n,p,n_1)`\n    -   This will give us $n_1$ samples of $n$ trials with probability $p$\n\n"
      ]
    },
    {
      "cell_type": "markdown",
      "metadata": {},
      "source": [
        "### Geometric Distribution\n\n"
      ]
    },
    {
      "cell_type": "markdown",
      "metadata": {},
      "source": [
        "-   This distributions gives us the probability of the first success in $n$ trials\n-   The general pmf is given by $f(X = x) = (1-p)^x p$\n-   Expected value and variance are given by $E(X) = \\frac{1 - p}{p}$ and $Var(X) = \\frac{1-p}{p^2}$\n-   We can simulate this in python using `np.random.geometric(p,n)`\n-   There is also the stats library which gives\n    -   `stats.geom.pmf(x,p)` and `stats.geom.cdf(x,p)`\n\n"
      ]
    },
    {
      "cell_type": "markdown",
      "metadata": {},
      "source": [
        "### Poisson Distribution\n\n"
      ]
    },
    {
      "cell_type": "markdown",
      "metadata": {},
      "source": [
        "-   This distribution gives us the probability of $k$ events in a given time period\n-   The general pmf is given by $f(x) = \\frac{\\lambda^x e^{-\\lambda}}{x!}$\n    -   Turns into an exponential distribution when $\\lambda \\rightarrow \\infty$\n    -   $\\lambda$ is the mean number of events in the time period\n    -   It can take negative values\n    -   Values can be non-integer\n-   Expected value and variance are given by $E(X) = \\lambda$ and $Var(X) = \\lambda$\n-   We can simulate this in python using `np.random.poisson(lam,n)`\n    -   To compute the pdf we can use `stats.poisson.pmf(x,lam)`\n-   Approximation\n    -\n\n"
      ]
    },
    {
      "cell_type": "markdown",
      "metadata": {},
      "source": [
        "## Continuous Random Variable Simulation\n\n"
      ]
    },
    {
      "cell_type": "markdown",
      "metadata": {},
      "source": [
        "### Cumulative Distribution Function\n\n"
      ]
    },
    {
      "cell_type": "markdown",
      "metadata": {},
      "source": [
        "-   This is a function that gives the probability of a continuous random variable taking on a value less than or equal to a specific value.\n-   The general cdf is given by $F(x) = \\int_{-\\infty}^{x} f(x) dx$\n\n"
      ]
    },
    {
      "cell_type": "markdown",
      "metadata": {},
      "source": [
        "### Uniform Distribution\n\n"
      ]
    },
    {
      "cell_type": "markdown",
      "metadata": {},
      "source": [
        "-   In this distribution, all values are equally likely\n-   The pdf is given by $f(x) = \\frac{1}{b-a}$\n-   Expected value and variance are given by $E(X) = \\frac{a+b}{2}$ and $Var(X) = \\frac{(b-a)^2}{12}$\n-   The cumulative distribution function is given by $F(x) = \\frac{x-a}{b-a}$\n-   We can simulate this in python using `np.random.uniform(a,b,n)`\n    -   We can get the pdf using `stats.uniform.pdf(x,a,b)`\n\n"
      ]
    },
    {
      "cell_type": "markdown",
      "metadata": {},
      "source": [
        "### Exponential Distribution\n\n"
      ]
    },
    {
      "cell_type": "markdown",
      "metadata": {},
      "source": [
        "-   This distribution gives us the probability of the time between events in Poisson processes.\n    -   It answers a question such as: \"What is the probability that something will happen in the next n minutes?\"\n-   The pdf is given by $f(x) = \\lambda e^{-\\lambda x}$ where $\\lambda = \\frac{1}{E(X)}$\n-   Expected value and variance are given by $E(X) = \\frac{1}{\\lambda}$ and $Var(X) = \\frac{1}{\\lambda^2}$\n-   The cumulative distribution function is given by $F(x) = 1 - e^{-\\lambda x}$\n-   We can simulate this in python using `np.random.exponential(scale,n)`\n    -   The scale is the inverse of the rate parameter $\\lambda$\n    -   We can get the pdf using `stats.expon.pdf(x,scale)` or\n\n"
      ]
    },
    {
      "cell_type": "markdown",
      "metadata": {},
      "source": [
        "### Normal Distribution\n\n"
      ]
    },
    {
      "cell_type": "markdown",
      "metadata": {},
      "source": [
        "-   This distribution is the most common distribution\n-   The pdf is given by $f(x) = \\frac{1}{\\sqrt{2\\pi\\sigma^2}} e^{-\\frac{(x-\\mu)^2}{2\\sigma^2}}$ - This is horrible.\n-   Expected value and variance are given by $E(X) = \\mu$ and $Var(X) = \\sigma^2$\n-   We can simulate this in python using `np.random.normal(mu,sigma,n)`\n    -   We can get the pdf using `stats.norm.pdf(x,mu,sigma)`\n    -   We can get the cdf using `stats.norm.cdf(x,mu,sigma)`\n\n"
      ]
    },
    {
      "cell_type": "markdown",
      "metadata": {},
      "source": [
        "## Choosing the right distribution\n\n"
      ]
    },
    {
      "cell_type": "markdown",
      "metadata": {},
      "source": [
        "How do we know which distribution to use? We can use the following table to help us out.\n\n| Distribution|Use Case|\n|---|---|\n| Bernoulli|Binary outcome|\n| Binomial|Number of successes in $n$ trials|\n| Geometric|Number of trials until first success|\n| Poisson|Number of events in a given time period|\n| Uniform|All values are equally likely|\n| Exponential|Time between events in Poisson processes|\n| Normal|Most common distribution|\n\n![img](./Choosing_the_right_distribution/plot.png)\n\n"
      ]
    },
    {
      "cell_type": "markdown",
      "metadata": {},
      "source": [
        "## Monte Carlo Method\n\n"
      ]
    },
    {
      "cell_type": "markdown",
      "metadata": {},
      "source": [
        "First, what is the Monte Carlo method? It is the aggregation of multiple simulations, to infer something.\nThis should not be confused with the Monte Carlo simulation, which is a simulation of a random variable. Here is a table to help you remember the difference, it highlights the key differences between the two:\n\n| Monte Carlo Method|Monte Carlo Simulation|\n|---|---|\n| A mathematical technique used for solving problems through repeated random sampling|A type of Monte Carlo method that involves generating random input values to simulate a system|\n| Used to estimate the value of an unknown quantity based on a sample of random data|Used to simulate the behavior of a system under different scenarios|\n| Can be used to solve problems in various fields like finance, engineering, and physics|Can be used to analyze the behavior of systems in various fields like finance, engineering, and physics|\n| Can be used to generate random numbers, simulate random walks, and perform numerical integration|Can be used to answer the \"what if\" questions and incorporate a wider variety of scenarios than historical data|\n| Samples are independent and identically distributed|Samples can be positively correlated and thereby increases the variance of your estimates|\n| Can be used in combination with Markov chains|Can be used to estimate the probability of a particular outcome or the range of possible outcomes|\n\n[ref](https://phind.com/search?q=Create+a+table+of+the+key+differences+between+the+monte+carlo+method+and+monte+carlo+simulation)\n\n"
      ]
    },
    {
      "cell_type": "markdown",
      "metadata": {},
      "source": [
        "## Monte Carlo Simulation\n\n"
      ]
    },
    {
      "cell_type": "markdown",
      "metadata": {},
      "source": [
        "Now that we have a basic understanding of the Monte Carlo method, let's talk about the Monte Carlo simulation. This is a simulation of a random variable. We can use this to estimate the expected value of a random variable.\n\nCharacteristics:\n\n-   Randomness - has to have a large period between repeats (stochastic)\n-   Large sample\n-   Valid algorithm\n-   Accurately simulates\n\n"
      ]
    },
    {
      "cell_type": "markdown",
      "metadata": {},
      "source": [
        "### Process\n\n"
      ]
    },
    {
      "cell_type": "markdown",
      "metadata": {},
      "source": [
        "1.  Define the domain of inputs (What kind of inputs are we going to use?)\n2.  Generate the inputs from a distribution (How are we going to generate the inputs?)\n3.  Run a simulation\n4.  Replicate\n5.  Aggregate\n\n"
      ]
    },
    {
      "cell_type": "markdown",
      "metadata": {},
      "source": [
        "### Using Python\n\n"
      ]
    },
    {
      "cell_type": "markdown",
      "metadata": {},
      "source": [
        "We will often have to select some categorical value when it comes to MCS. In python, we can make use of `numpy.random.choice()` to do this. This function takes in a list of values and a probability distribution and returns a random value from the list. For example, if we wanted to simulate a coin flip, we could do the following:\n\n"
      ]
    },
    {
      "cell_type": "code",
      "execution_count": 1,
      "metadata": {},
      "outputs": [],
      "source": [
        "import numpy as np\nnp.random.choice(['heads', 'tails'], p=[0.5, 0.5])"
      ]
    },
    {
      "cell_type": "markdown",
      "metadata": {},
      "source": [
        "We do not have to give it the probability distribution, if we do not, it will assume that all values are equally likely. For example, if we wanted to simulate a die roll, we could do the following:\n\n"
      ]
    },
    {
      "cell_type": "code",
      "execution_count": 1,
      "metadata": {},
      "outputs": [],
      "source": [
        "import numpy as np\nnp.random.choice([1, 2, 3, 4, 5, 6])"
      ]
    },
    {
      "cell_type": "markdown",
      "metadata": {},
      "source": [
        "### Inferential Statistics\n\n"
      ]
    },
    {
      "cell_type": "markdown",
      "metadata": {},
      "source": [
        "-   We use inferential statistics to make inferences about a population from a sample\n-   We simulate a sample, calculate the statistics and then use the statistics to make inferences about the population\n\n"
      ]
    },
    {
      "cell_type": "markdown",
      "metadata": {},
      "source": [
        "## Discrete Events Simulation\n\n"
      ]
    },
    {
      "cell_type": "markdown",
      "metadata": {},
      "source": [
        "In this type of simulation, we model real-world systems as a sequence of discrete events. We can use this to model things like a manufacturing process, a supply chain, or a financial market. We can use this to answer questions like \"What is the probability that a product will be delivered on time?\" or \"What is the probability that a customer will buy a product?\".\n\nWe can also answer questions about how efficient a system is or howmany resources are needed to run a system. For example, we can answer questions like \"How many employees are needed to run a manufacturing process?\" or \"How many machines are needed to run a manufacturing process?\".\n\n-   **Warmup Period:** This is a period of time where the simulation is preparing, data is being loaded.\n\n"
      ]
    },
    {
      "cell_type": "markdown",
      "metadata": {},
      "source": [
        "### Components\n\n"
      ]
    },
    {
      "cell_type": "markdown",
      "metadata": {},
      "source": [
        "-   **Entities:** These are the objects that are being modeled. For example, in a manufacturing process, the entities could be products.\n-   **Events:** These are the actions that are performed on the entities. For example, in a manufacturing process, the events could be the actions that are performed on the products.\n-   **Resources:** These are the things that perform the events. For example, in a manufacturing process, the resources could be the machines that perform the actions on the products.\n\n"
      ]
    },
    {
      "cell_type": "markdown",
      "metadata": {},
      "source": [
        "### Types\n\n"
      ]
    },
    {
      "cell_type": "markdown",
      "metadata": {},
      "source": [
        "-   Activity Oriented\n    -   We model the system as a series of activities\n-   Event Oriented\n    -   We create various events\n    -   Benefit: we can keep track of time\n-   Process Oriented\n    -   Models entire life cycles\n    -   Benefit: we can keep track of time and resources\n\n"
      ]
    },
    {
      "cell_type": "markdown",
      "metadata": {},
      "source": [
        "### `simpy` Library\n\n"
      ]
    },
    {
      "cell_type": "markdown",
      "metadata": {},
      "source": [
        "We can create these simulations using `simpy`, a python library for discrete event simulation. We can install it using `pip install simpy`. We can then import it using `import simpy`.\n\n-   The type of simulation is process oriented\n\nThe structure of a simulation in `simpy` designed with functional programming is as follows:\n\n1.  Define the environment\n2.  Define the resources\n3.  Define the processes\n4.  Run the simulation\n\nWhat is a process? A process is a function that defines the behavior of an entity in the simulation. For example, if we were simulating a manufacturing process, we could have a process that defines the behavior of a machine.\n\nWe make use of generators to simulate new entities entering the system. We can then use `yield` to wait for a certain amount of time or for a resource to become available. We can then use `env.run()` to run the simulation.\n\n"
      ]
    },
    {
      "cell_type": "markdown",
      "metadata": {},
      "source": [
        "### Designing Process\n\n"
      ]
    },
    {
      "cell_type": "markdown",
      "metadata": {},
      "source": [
        "Let's take a look at a very simple example of a DES to learn how to use generators within discrete eventsimulations. The following graph describes a very simple experiment in which we simulate the queue ofpatients arriving at a weight loss clinic. We will have inter-arrival times of consultations, the entities aspatients, and the activity times will be represented by the consultation time of the patients with the nurse.\n\nThis is the process of how to design this simulation:\n\n1.  create a patient generator that generates patients at a certain rate\n2.  create an activity generator for each of the patients\n    1.  Request a resource (nurse)\n    2.  Create a queue time for the patient\n    3.  Create a consultation time for the patient\n    4.  Release the resource (nurse)\n3.  Run the simulation\n\n![img](./Discrete_Events_Simulation/2023-02-25_16-47-11_XP1H2i8m38RVUufSO1VOWqpsuAkA5mWrOA5hNPCClBtjDeTQnBVip_VnP-rOC8aEtXnH70KvKA244XCqEzXRSPEJnnQsi8x4W71V55DXq6JvJ1mrMMhpD2gn52LeOZAl5JG_IjoK2-H62myIoyUVlfEIqiKDkR17RzNFLuub1Sanc8sO-Ju6LYyeBePAis_BrVxcgv_qXFnnjZ4TXMjvt2S0.png)\n\n"
      ]
    },
    {
      "cell_type": "markdown",
      "metadata": {},
      "source": [
        "### Example\n\n"
      ]
    },
    {
      "cell_type": "markdown",
      "metadata": {},
      "source": [
        "Let's say we have a manufacturing process that has 3 machines. We want to know how many products we can make in a day. We can model this using `simpy` as follows:\n\n"
      ]
    },
    {
      "cell_type": "code",
      "execution_count": 1,
      "metadata": {},
      "outputs": [],
      "source": [
        "import simpy\nimport numpy as np\n\nenv = simpy.Environment()\n\n# Define the resources\nmachine = simpy.Resource(env, capacity=3)\n\n# Define the processes\ndef manufacturing_process(env, machine):\n    # Wait for a machine to become available\n    with machine.request() as request:\n        # Wait for the machine to become available\n        yield request\n        # Wait for the manufacturing process to complete\n        yield env.timeout(np.random.uniform(0, 1))\n\n# Run the simulation\nenv.process(manufacturing_process(env, machine))\nenv.run(until=1)"
      ]
    },
    {
      "cell_type": "markdown",
      "metadata": {},
      "source": [
        "## Model Building\n\n"
      ]
    },
    {
      "cell_type": "markdown",
      "metadata": {},
      "source": [
        "## Regression Models\n\n"
      ]
    },
    {
      "cell_type": "markdown",
      "metadata": {},
      "source": [
        "We start of with SLR (Simple linear regression). There are 3 key steps in this process:\n\n1.  Build the model\n2.  Evaluate the model\n3.  Use the model\n\nWe have two types of basic models, deterministic and probabilistic:\n\n-   **Deterministic model:** Describes an exact relationship between the independent and dependent variables: $y = \\beta_0 + \\beta_1 x$\n-   **Probabilistic model:** It builds ontop of the deterministic model by adding a random component to the model: $y = \\beta_0 + \\beta_1 x + \\epsilon$\n\n"
      ]
    },
    {
      "cell_type": "markdown",
      "metadata": {},
      "source": [
        "### Probabilistic Model\n\n"
      ]
    },
    {
      "cell_type": "markdown",
      "metadata": {},
      "source": [
        "The random component is called the error term, it adds an element of randomness to the model. For an ideal model, the error term should be normally distributed with a mean of 0.\n\nWe mix this with a bit of statistics, we have the population parameters $\\sigma^2_\\epsilon$, $\\beta_0$, and $\\beta_1$. The best we can do is use estimators: $\\hat{\\sigma}^2_\\epsilon$, $\\hat{\\beta}_0$, and $\\hat{\\beta}_1$.\n\n"
      ]
    },
    {
      "cell_type": "markdown",
      "metadata": {},
      "source": [
        "### Least Squares\n\n"
      ]
    },
    {
      "cell_type": "markdown",
      "metadata": {},
      "source": [
        "Say we collect some data from a sample. We now want to build a model that best fits the data. We can do this by minimizing the sum of the squared errors. This is called the least squares method.\n\nThe first step in processing this data, is to create a scatter plot of the data. We can then draw a line of best fit through the data. To obtain the equation of that line, we can use the following formulas. We will be using a deterministic example.\n\nThe equation:\n\n$$\n\\bar{y} = \\hat{\\beta}_0 + \\hat{\\beta}_1 \\bar{x}\n$$\n\nSample data:\n\n| x|y|\n|---|---|\n| 1|1|\n| 2|1|\n| 3|2|\n| 4|2|\n| 5|4|\n\nThe formulas to compute $\\hat{\\beta}_0$ and $\\hat{\\beta}_1$ are as follows:\n\n$$\n\\hat{\\beta}_1 = \\frac{SS_{xy}}{SS_{xx}}\n$$\n\n$$\n\\hat{\\beta}_0 = \\bar{y} - \\hat{\\beta}_1 \\bar{x}\n$$\n\nWhere:\n\n$$\nSS_{xy} = \\sum_{i=1}^n (x_i - \\bar{x})(y_i - \\bar{y})\n$$\n\n$$\nSS_{xx} = \\sum_{i=1}^n (x_i - \\bar{x})^2\n$$\n\nLets apply this to our example:\n\n    import numpy as np\n    import pandas as pd\n    import matplotlib.pyplot as plt\n    import seaborn as sns\n    \n    # Create the data\n    x = np.array([1, 2, 3, 4, 5])\n    y = np.array([1, 1, 2, 2, 4])\n    \n    # Create the dataframe\n    df = pd.DataFrame({'x': x, 'y': y})\n    \n    # Create the scatter plot\n    sns.scatterplot(x='x', y='y', data=df)\n    plt.savefig('scatter_plot.png')\n    print(\"scatter_plot.png\")\n\n[[file:# Out[21]:\n![img](./obipy-resources/TIIC5v.png)]]\n\nLets compute the sample mean of x and y:\n\n    x_bar = np.mean(x)\n    y_bar = np.mean(y)\n    print(x_bar, y_bar)\n\n    3.0 2.0\n\nWe now have everything to compute the coefficients $\\hat{\\beta}_0$ and $\\hat{\\beta}_1$:\n\n    beta_hat_1 = np.sum((x - x_bar) * (y - y_bar)) / np.sum((x - x_bar)**2)\n    beta_hat_0 = y_bar - beta_hat_1 * x_bar\n    \n    print(f\"y = {beta_hat_0} + {beta_hat_1} * x\")\n\n    y = -0.09999999999999964 + 0.7 * x\n\nAnd we can plot this line of best fit:\n\n    sns.scatterplot(x='x', y='y', data=df)\n    plt.plot(x, beta_hat_0 + beta_hat_1 * x, color='red')\n    plt.savefig('scatter_plot_with_line.png')\n    print(\"scatter_plot_with_line.png\")\n\n[[file:# Out[24]:\n![img](./obipy-resources/uerNCq.png)]]\n\nWith this, we have created a LSRL (Least Squares Regression Line). We can use this to make predictions. This kind of model, should primarily be used within the range of the data. If we want to make predictions outside of the range of the data, we should use a different model.\n\nConfidence in the model can be measured using the coefficient of determination ($R^2$). This is a measure of how well the model fits the data. The closer the value is to 1, the better the model fits the data. The value is always between 0 and 1.\n\n"
      ]
    },
    {
      "cell_type": "markdown",
      "metadata": {},
      "source": [
        "### Random Error\n\n"
      ]
    },
    {
      "cell_type": "markdown",
      "metadata": {},
      "source": [
        "Might have guessed already, the random error $\\epsilon$ is a distribution. Lets start with some assumptions:\n\n-   $\\epsilon$ is normally distributed $N(\\mu, \\sigma^2)$\n-   $\\epsilon$ is independent of $x$\n\nWhat is left for us to figure out is the variance of epsilon.\n\n-   We know that it will be constant for all values of $x$ (homoscedasticity) <sup><a id=\"fnr.1\" class=\"footref\" href=\"#fn.1\" role=\"doc-backlink\">1</a></sup>\n\nWe can use the following formula to compute the variance of $\\epsilon$:\n\n$$\n\\sigma^2_\\epsilon = \\frac{1}{n-2} \\sum_{i=1}^n (y_i - \\hat{y}_i)^2\n$$\n\nIf we return to our example, we can compute the variance of $\\epsilon$:\n\n    y_hat = beta_hat_0 + beta_hat_1 * x\n    epsilon = y - y_hat\n    epsilon_var = np.sum((y - y_hat)**2) / (len(x) - 2)\n    print(epsilon_var)\n\n    0.36666666666666664\n\nHow do we interpret this result? We use the empirical rule, which tells us that **95% of the observed $y$ values will be within 2 standard deviations of the LSRL**.\n\nWith this information, we can build a simple confidence interval: $(\\hat{y} - 2\\sigma_\\epsilon, \\hat{y} + 2\\sigma_\\epsilon)$ which tells us that 95% of the observed $y$ values will be within this interval.\n\nEven better, we can calculate the **mean error**:\n\n$$\nme = \\frac{s}{\\bar{y}} * 100\n$$\n\n    me = np.sqrt(epsilon_var) / y_bar * 100\n    print(me)\n\n    30.276503540974915\n\nFrom this number, we can infer that **~30% of our estimates are off**.\n\nSummary of assumptions for the error:\n\n| Assumption|Description|\n|---|---|\n| 1|$\\epsilon$ is normally distributed $N(0, \\sigma^2)$|\n| 2|$\\epsilon$ is independent of $x$|\n| 3|$\\epsilon$ is homoscedastic (constant variance)|\n| 3|The influence of some $y$ on $\\epsilon$ does not influence any other value $y_1$|\n\n\n# Footnotes\n\n<sup><a id=\"fn.1\" href=\"#fnr.1\">1</a></sup> This is a fancy way of saying that the variance is the same for all values of x\n"
      ]
    },
    {
      "cell_type": "markdown",
      "metadata": {},
      "source": [
        "### Adequacy\n\n"
      ]
    },
    {
      "cell_type": "markdown",
      "metadata": {},
      "source": [
        "### Usefulness\n\n"
      ]
    },
    {
      "cell_type": "markdown",
      "metadata": {},
      "source": [
        "### AIC and BIC\n\n"
      ]
    },
    {
      "cell_type": "markdown",
      "metadata": {},
      "source": [
        "### Prediction\n\n"
      ]
    },
    {
      "cell_type": "markdown",
      "metadata": {},
      "source": [
        "## Classification Models\n\n"
      ]
    }
  ],
  "metadata": [
    [
      "org"
    ],
    null,
    null
  ],
  "nbformat": 4,
  "nbformat_minor": 0
}
