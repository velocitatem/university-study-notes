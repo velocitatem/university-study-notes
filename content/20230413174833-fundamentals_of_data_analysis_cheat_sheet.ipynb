{
  "cells": [
    {
      "cell_type": "markdown",
      "metadata": {},
      "source": "Fundamentals of Data Analysis - Cheat Sheet\n===========================================\n\n"
    },
    {
      "cell_type": "markdown",
      "metadata": {},
      "source": [
        "## Types of Errors\n\n"
      ]
    },
    {
      "cell_type": "markdown",
      "metadata": {},
      "source": [
        "-   Type I error: Reject $H_0$ when it is true (False positive)\n-   Type II error: Fail to reject $H_0$ when it is false (False negative)\n\n"
      ]
    },
    {
      "cell_type": "markdown",
      "metadata": {},
      "source": [
        "### Type I Error\n\n"
      ]
    },
    {
      "cell_type": "markdown",
      "metadata": {},
      "source": [
        "-   Probability of type I error is $\\alpha$ (usually 0.05)\n\n"
      ]
    },
    {
      "cell_type": "markdown",
      "metadata": {},
      "source": [
        "### Type II Error\n\n"
      ]
    },
    {
      "cell_type": "markdown",
      "metadata": {},
      "source": [
        "-   Probability of type II error is $\\beta$\n\nIn python:\n\n"
      ]
    },
    {
      "cell_type": "code",
      "execution_count": 1,
      "metadata": {},
      "outputs": [],
      "source": [
        "import statsmodels.stats.power as ssp\npower=ssp.tt_ind_solve_power(effect_size=None, nobs1=None, alpha=0.05, power=0.8, ratio=1.0, alternative='two-sided')\np_tII = 1 - power"
      ]
    },
    {
      "cell_type": "markdown",
      "metadata": {},
      "source": [
        "## Hypothesis Testing (One Sample)\n\n"
      ]
    },
    {
      "cell_type": "markdown",
      "metadata": {},
      "source": [
        "We want to test the null hypothesis $H_0$ against the alternative hypothesis $H_1$.\n\n-   $H_0$ is the null hypothesis (the status quo)\n-   $H_1$ is the alternative hypothesis (the new idea)\n\n"
      ]
    },
    {
      "cell_type": "markdown",
      "metadata": {},
      "source": [
        "### Hypothesis Test for Means\n\n"
      ]
    },
    {
      "cell_type": "markdown",
      "metadata": {},
      "source": [
        "Conditions:\n\n-   $n \\ge 30$\n-   Normal distribution of the population\n-   Population standard deviation is known\n\nProcedure:\n\n1.  State the null and alternative hypotheses\n    \n    | Null hypothesis|Alternative hypothesis|Tail|\n    |---|---|---|\n    | $H_0: \\mu = \\mu_0$|$H_1: \\mu \\ne \\mu_0$|Two-tailed|\n    | $H_0: \\mu \\le \\mu_0$|$H_1: \\mu > \\mu_0$|Right-tailed|\n    | $H_0: \\mu \\ge \\mu_0$|$H_1: \\mu < \\mu_0$|Left-tailed|\n2.  Find the test statistic\n    $$\n      t = \\frac{\\bar{x} - \\mu_0}{\\frac{s}{\\sqrt{n}}}\n      $$\n3.  Find p-value and compare with $\\alpha$\n    \n    | Tail|$p$ value|\n    |---|---|\n    | Two-tailed|$2 \\times P(\\vert t\\vert > t_{\\alpha/2, n-1})$|\n    | Right-tailed|$P(t > t_{\\alpha, n-1})$|\n    | Left-tailed|$P(t < t_{\\alpha, n-1})$|\n\n4.  Make a decision\n    -   If $p \\le \\alpha$, reject $H_0$\n    -   If $p > \\alpha$, fail to reject $H_0$\n\n"
      ]
    },
    {
      "cell_type": "markdown",
      "metadata": {},
      "source": [
        "### Hypothesis Test for Proportions\n\n"
      ]
    },
    {
      "cell_type": "markdown",
      "metadata": {},
      "source": [
        "Conditions:\n\n-   $np \\ge 10$ and $n(1-p) \\ge 10$\n-   Random sampling\n\nProcedure:\n\n1.  State the null and alternative hypotheses\n    \n    | Null hypothesis|Alternative hypothesis|Tail|\n    |---|---|---|\n    | $H_0: p = p_0$|$H_1: p \\ne p_0$|Two-tailed|\n    | $H_0: p \\le p_0$|$H_1: p > p_0$|Right-tailed|\n    | $H_0: p \\ge p_0$|$H_1: p < p_0$|Left-tailed|\n\n2.  Find the test statistic\n    $$\n      z = \\frac{p - p_0}{\\sqrt{\\frac{p_0(1-p_0)}{n}}}\n      $$\n3.  Find p-value and compare with $\\alpha$\n    \n    | Tail|$p$ value|\n    |---|---|\n    | Two-tailed|$2 \\times P(\\vert z\\vert > z_{\\alpha/2})$|\n    | Right-tailed|$P(z > z_{\\alpha})$|\n    | Left-tailed|$P(z < z_{\\alpha})$|\n\n"
      ]
    },
    {
      "cell_type": "markdown",
      "metadata": {},
      "source": [
        "### Power of a Test\n\n"
      ]
    },
    {
      "cell_type": "markdown",
      "metadata": {},
      "source": [
        "-   Probability of type I error is $\\alpha$ (usually 0.05)\n-   Probability of type II error is $\\beta$\n\n$$\n\\text{Power} = 1 - \\beta\n$$\n\n"
      ]
    },
    {
      "cell_type": "markdown",
      "metadata": {},
      "source": [
        "#### Assuming Normality\n\n"
      ]
    },
    {
      "cell_type": "markdown",
      "metadata": {},
      "source": [
        "In python:\n\n"
      ]
    },
    {
      "cell_type": "code",
      "execution_count": 1,
      "metadata": {},
      "outputs": [],
      "source": [
        "import statsmodels.stats.power as ssp\npower=ssp.normal_power_het(1000, sample_size, alpha_level, std_null=population_sigma, std_alternative=None, alternative='larger')"
      ]
    },
    {
      "cell_type": "markdown",
      "metadata": {},
      "source": [
        "#### Using a T-Distribution\n\n"
      ]
    },
    {
      "cell_type": "code",
      "execution_count": 1,
      "metadata": {},
      "outputs": [],
      "source": [
        "from statsmodels.stats.power import TTestPower\npower = TTestPower().power(effect_size=None, nobs1=None, alpha=0.05, alternative='large')"
      ]
    },
    {
      "cell_type": "markdown",
      "metadata": {},
      "source": [
        "-   **effect size:** The difference between the two means divided by the standard deviation of the population. (same as above)\n-   **power:** What we want the power to be. (same as above)\n-   **ratio:** The ratio of the standard deviations of the two groups. (same as above)\n\n"
      ]
    },
    {
      "cell_type": "markdown",
      "metadata": {},
      "source": [
        "### Size Determination for a Test\n\n"
      ]
    },
    {
      "cell_type": "markdown",
      "metadata": {},
      "source": [
        "We try to satisfy $\\beta(p^\\prime) = \\beta$ with:\n\n\\begin{align}\nn &= \\begin{cases}\n\\frac{z_\\alpha \\sqrt{p_0(1-p_0)} + z_\\beta \\sqrt{p^\\prime(1-p^\\prime)}}{p^\\prime - p_0} & \\text{if } \\quad \\text{one tail} \\\\\n\\frac{z_{\\alpha/2} \\sqrt{p_0(1-p_0)} + z_{\\beta/2} \\sqrt{p^\\prime(1-p^\\prime)}}{p^\\prime - p_0} & \\text{if } \\quad \\text{two tail}\n\\end{cases}\n\\end{align}\n\n"
      ]
    },
    {
      "cell_type": "markdown",
      "metadata": {},
      "source": [
        "#### Assuming Normality\n\n"
      ]
    },
    {
      "cell_type": "code",
      "execution_count": 1,
      "metadata": {},
      "outputs": [],
      "source": [
        "import statsmodels.stats.power as ssp\nsample_size=ssp.tt_solve_power(effect_size=None, nobs1=None, alpha=0.05, power=0.8, ratio=1.0, alternative='two-sided')"
      ]
    },
    {
      "cell_type": "markdown",
      "metadata": {},
      "source": [
        "-   **effect size:** The difference between the two means divided by the standard deviation of the population.\n-   **power:** What we want the power to be.\n-   **ratio:** The ratio of the standard deviations of the two groups.\n\n"
      ]
    },
    {
      "cell_type": "markdown",
      "metadata": {},
      "source": [
        "#### Using a T-Distribution\n\n"
      ]
    },
    {
      "cell_type": "code",
      "execution_count": 1,
      "metadata": {},
      "outputs": [],
      "source": [
        "from statsmodels.stats.power import TTestPower\nsample_size = TTestPower().solve_power(effect_size=None, nobs1=None, alpha=0.05, power=0.8, ratio=1.0, alternative='large')"
      ]
    },
    {
      "cell_type": "markdown",
      "metadata": {},
      "source": [
        "-   **effect size:** The difference between the two means divided by the standard deviation of the population.\n-   **power:** What we want the power to be.\n-   **ratio:** The ratio of the standard deviations of the two groups.\n\n"
      ]
    },
    {
      "cell_type": "markdown",
      "metadata": {},
      "source": [
        "### Interpretation\n\n"
      ]
    },
    {
      "cell_type": "markdown",
      "metadata": {},
      "source": [
        "-   Statistical significance: The result is unlikely to have occurred by chance\n-   Practical significance: The result is unlikely to have occurred by chance and is also important in the real world (This can be disrupted by a large sample size)\n\n"
      ]
    },
    {
      "cell_type": "markdown",
      "metadata": {},
      "source": [
        "### Achievable Significance Level\n\n"
      ]
    },
    {
      "cell_type": "markdown",
      "metadata": {},
      "source": [
        "-   We can test if a significance level is achievable by using a simulation.\n\n"
      ]
    },
    {
      "cell_type": "code",
      "execution_count": 1,
      "metadata": {},
      "outputs": [],
      "source": [
        "import scipy.stats as ss\nlevel_achievalbe = ss.binom.csv(x,20,H_0_p)"
      ]
    },
    {
      "cell_type": "markdown",
      "metadata": {},
      "source": [
        "-   **x:** The number of successes in the sample (the number of times the null hypothesis is true)\n\n"
      ]
    },
    {
      "cell_type": "markdown",
      "metadata": {},
      "source": [
        "## Approaching a Hypothesis Testing Problem\n\n"
      ]
    },
    {
      "cell_type": "markdown",
      "metadata": {},
      "source": [
        "![img](./fda_cheat_flow.png)\n\n---\n\n"
      ]
    }
  ],
  "metadata": {
    "org": null,
    "kernelspec": {
      "display_name": "Python 3",
      "language": "python",
      "name": "python3"
    },
    "language_info": {
      "codemirror_mode": {
        "name": "ipython",
        "version": 3
      },
      "file_extension": ".py",
      "mimetype": "text/x-python",
      "name": "python",
      "nbconvert_exporter": "python",
      "pygments_lexer": "ipython3",
      "version": "3.5.2"
    }
  },
  "nbformat": 4,
  "nbformat_minor": 0
}
